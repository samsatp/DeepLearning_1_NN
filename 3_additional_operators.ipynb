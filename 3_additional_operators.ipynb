{
 "cells": [
  {
   "attachments": {},
   "cell_type": "markdown",
   "metadata": {},
   "source": [
    "Now that we have working Value wrapper for some basic operators, we should add additional relevant operators to it. I will do division, power, negate."
   ]
  },
  {
   "cell_type": "code",
   "execution_count": 1,
   "metadata": {},
   "outputs": [],
   "source": [
    "import math\n",
    "import numpy as np"
   ]
  },
  {
   "cell_type": "code",
   "execution_count": 2,
   "metadata": {},
   "outputs": [],
   "source": [
    "class Value:\n",
    "    def __init__(self, data: float, label: str = \"\", previous = []) -> None:\n",
    "        self.data =  data\n",
    "        self.label = label\n",
    "        self.grad = 0.0\n",
    "        self._backward = lambda : None\n",
    "        self._previous = previous\n",
    "\n",
    "    def __repr__(self) -> str:\n",
    "        if self.label != \"\":\n",
    "            return f\"Value(label = {self.label}, data = {self.data})\"\n",
    "        return f\"Value(data = {self.data})\"\n",
    "\n",
    "    def __add__(self, other):\n",
    "        # Forward pass\n",
    "        other = Value(data=other) if not isinstance(other, Value) else other\n",
    "        output = Value(data = self.data + other.data, previous=[self, other])\n",
    "\n",
    "        # Backward pass function\n",
    "        def _backward():\n",
    "            self.grad += output.grad * 1.0\n",
    "            other.grad += output.grad * 1.0\n",
    "        output._backward = _backward\n",
    "        \n",
    "        return output\n",
    "\n",
    "    def __radd__(self, other):\n",
    "        return self + other\n",
    "\n",
    "    def __sub__(self, other):\n",
    "        return self + (-other)\n",
    "\n",
    "    def __mul__(self, other):\n",
    "        # Forward pass\n",
    "        other = Value(data=other) if not isinstance(other, Value) else other\n",
    "        output = Value(data = self.data * other.data, previous=[self, other])\n",
    "\n",
    "        # Backward pass function\n",
    "        def _backward():\n",
    "            self.grad += output.grad * other.data\n",
    "            other.grad += output.grad * self.data\n",
    "        output._backward = _backward\n",
    "\n",
    "        return output\n",
    "\n",
    "    def __rmul__(self, other):\n",
    "        return self * other\n",
    "\n",
    "    def __truediv__(self, other):\n",
    "        return self * other**(-1)\n",
    "\n",
    "    def __pow__(self, n):\n",
    "        assert isinstance(n, (int, float))\n",
    "        # Forward pass\n",
    "        output = Value(data=self.data ** n, previous=[self])\n",
    "\n",
    "        # Backward pass function\n",
    "        def _backward():\n",
    "            self.grad += output.grad * ((n) * self.data ** (n-1))\n",
    "        output._backward = _backward\n",
    "\n",
    "        return output\n",
    "\n",
    "    def __neg__(self):\n",
    "        return -1 * self\n",
    "\n",
    "\n",
    "    def tanh(self):\n",
    "        # Forward pass\n",
    "        x = self.data\n",
    "        t = (math.exp(2*x) - 1)/(math.exp(2*x) + 1)\n",
    "        output = Value(data = t, previous=[self])\n",
    "        \n",
    "        # Backward pass function\n",
    "        def _backward():\n",
    "            self.grad += (1 - t**2) * output.grad\n",
    "        output._backward = _backward\n",
    "\n",
    "        return output\n",
    "\n",
    "    def backward(self):\n",
    "        self.grad = 1.0\n",
    "        def bfs(root): #function for BFS\n",
    "            visited = []\n",
    "            queue = []\n",
    "            visited.append(root)\n",
    "            queue.append(root)\n",
    "\n",
    "            out = []\n",
    "            while queue:          # Creating loop to visit each node\n",
    "                m = queue.pop(0) \n",
    "                out.append(m)\n",
    "\n",
    "                for neighbour in m._previous:\n",
    "                    if neighbour not in visited:\n",
    "                        visited.append(neighbour)\n",
    "                        queue.append(neighbour)\n",
    "\n",
    "            return out\n",
    "\n",
    "        output_order = bfs(self)\n",
    "        for node in output_order:\n",
    "            node._backward()"
   ]
  },
  {
   "cell_type": "code",
   "execution_count": 3,
   "metadata": {},
   "outputs": [],
   "source": [
    "a = Value(data=1.0)"
   ]
  },
  {
   "cell_type": "code",
   "execution_count": 4,
   "metadata": {},
   "outputs": [
    {
     "data": {
      "text/plain": [
       "Value(data = 1.0)"
      ]
     },
     "execution_count": 4,
     "metadata": {},
     "output_type": "execute_result"
    }
   ],
   "source": [
    "a ** 2"
   ]
  },
  {
   "cell_type": "code",
   "execution_count": 5,
   "metadata": {},
   "outputs": [
    {
     "data": {
      "text/plain": [
       "Value(data = -1.0)"
      ]
     },
     "execution_count": 5,
     "metadata": {},
     "output_type": "execute_result"
    }
   ],
   "source": [
    "-a"
   ]
  },
  {
   "cell_type": "code",
   "execution_count": 6,
   "metadata": {},
   "outputs": [
    {
     "data": {
      "text/plain": [
       "Value(data = 0.5)"
      ]
     },
     "execution_count": 6,
     "metadata": {},
     "output_type": "execute_result"
    }
   ],
   "source": [
    "a/2"
   ]
  },
  {
   "cell_type": "code",
   "execution_count": 7,
   "metadata": {},
   "outputs": [
    {
     "data": {
      "text/plain": [
       "Value(data = 2.0)"
      ]
     },
     "execution_count": 7,
     "metadata": {},
     "output_type": "execute_result"
    }
   ],
   "source": [
    "a * 2"
   ]
  },
  {
   "cell_type": "code",
   "execution_count": 8,
   "metadata": {},
   "outputs": [
    {
     "data": {
      "text/plain": [
       "Value(data = 2.0)"
      ]
     },
     "execution_count": 8,
     "metadata": {},
     "output_type": "execute_result"
    }
   ],
   "source": [
    "2 * a"
   ]
  },
  {
   "cell_type": "code",
   "execution_count": 9,
   "metadata": {},
   "outputs": [
    {
     "data": {
      "text/plain": [
       "Value(data = 6.0)"
      ]
     },
     "execution_count": 9,
     "metadata": {},
     "output_type": "execute_result"
    }
   ],
   "source": [
    "a + 5"
   ]
  }
 ],
 "metadata": {
  "kernelspec": {
   "display_name": "Python 3",
   "language": "python",
   "name": "python3"
  },
  "language_info": {
   "codemirror_mode": {
    "name": "ipython",
    "version": 3
   },
   "file_extension": ".py",
   "mimetype": "text/x-python",
   "name": "python",
   "nbconvert_exporter": "python",
   "pygments_lexer": "ipython3",
   "version": "3.10.7"
  },
  "orig_nbformat": 4,
  "vscode": {
   "interpreter": {
    "hash": "93d343a67186057eba7cc3f4fb38dbcf94a41bc6d951d30420561a381ab22bcf"
   }
  }
 },
 "nbformat": 4,
 "nbformat_minor": 2
}
