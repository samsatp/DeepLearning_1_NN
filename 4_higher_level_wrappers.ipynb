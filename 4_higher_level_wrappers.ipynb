{
 "cells": [
  {
   "cell_type": "code",
   "execution_count": 1,
   "metadata": {},
   "outputs": [],
   "source": [
    "import math\n",
    "import random\n",
    "import numpy as np"
   ]
  },
  {
   "cell_type": "code",
   "execution_count": 2,
   "metadata": {},
   "outputs": [],
   "source": [
    "from main import Value"
   ]
  },
  {
   "attachments": {},
   "cell_type": "markdown",
   "metadata": {},
   "source": [
    "# 1. Node\n",
    "represents one neuron node in a neural network which consists of weight vector and a bias.\n",
    "\n",
    "![](img/neuron.png)"
   ]
  },
  {
   "cell_type": "code",
   "execution_count": 3,
   "metadata": {},
   "outputs": [],
   "source": [
    "class Node:\n",
    "    def __init__(self, input_dim):\n",
    "        self.W = [Value(data=random.uniform(-1,1)) for _ in range(input_dim)]\n",
    "        self.b = Value(data=random.uniform(-1,1))\n",
    "\n",
    "    def __call__(self, xs):\n",
    "        assert len(xs) == len(self.W)  # Check for compatible dimension\n",
    "\n",
    "        out = sum([\n",
    "            w*x for w,x in zip(self.W, xs)\n",
    "        ]) + self.b\n",
    "        out = out.tanh()\n",
    "        return out\n",
    "\n",
    "    def params(self):\n",
    "        return self.W + [self.b]"
   ]
  },
  {
   "cell_type": "code",
   "execution_count": 4,
   "metadata": {},
   "outputs": [
    {
     "data": {
      "text/plain": [
       "Value(data = -0.4943471294098483)"
      ]
     },
     "execution_count": 4,
     "metadata": {},
     "output_type": "execute_result"
    }
   ],
   "source": [
    "node_1 = Node(input_dim=5)\n",
    "xs = [random.uniform(-1,1) for _ in range(5)]\n",
    "node_1(xs)"
   ]
  },
  {
   "cell_type": "code",
   "execution_count": 5,
   "metadata": {},
   "outputs": [
    {
     "data": {
      "text/plain": [
       "[Value(data = 0.049837394298940074),\n",
       " Value(data = -0.9085909692851741),\n",
       " Value(data = -0.43649876198901105),\n",
       " Value(data = -0.7307321210882685),\n",
       " Value(data = -0.871329482302706),\n",
       " Value(data = -0.8214466416461099)]"
      ]
     },
     "execution_count": 5,
     "metadata": {},
     "output_type": "execute_result"
    }
   ],
   "source": [
    "node_1.params()"
   ]
  },
  {
   "attachments": {},
   "cell_type": "markdown",
   "metadata": {},
   "source": [
    "# 2. Layer\n",
    "represents one layer in a neural network which consits of a weight matrix and a bias vector.\n",
    "\n",
    "![](img/layer.png)"
   ]
  },
  {
   "cell_type": "code",
   "execution_count": 6,
   "metadata": {},
   "outputs": [],
   "source": [
    "class Layer:\n",
    "    def __init__(self, input_dim, n_nodes):\n",
    "        self.nodes = [Node(input_dim=input_dim) for _ in range(n_nodes)]\n",
    "\n",
    "    def __call__(self, x):\n",
    "        out = [node(x) for node in self.nodes]\n",
    "        return out[0] if len(out) == 1 else out\n",
    "\n",
    "    def params(self):\n",
    "        return [p for node in self.nodes for p in node.params()]\n",
    "    "
   ]
  },
  {
   "cell_type": "code",
   "execution_count": 7,
   "metadata": {},
   "outputs": [
    {
     "data": {
      "text/plain": [
       "[Value(data = 0.7107676391416867),\n",
       " Value(data = -0.9371041730332582),\n",
       " Value(data = -0.85556133925287),\n",
       " Value(data = -0.5518786556746343)]"
      ]
     },
     "execution_count": 7,
     "metadata": {},
     "output_type": "execute_result"
    }
   ],
   "source": [
    "layer_1 = Layer(input_dim=6, n_nodes=4)\n",
    "x = np.random.uniform(-1,1,size=6)\n",
    "layer_1(x)"
   ]
  },
  {
   "cell_type": "code",
   "execution_count": 8,
   "metadata": {},
   "outputs": [
    {
     "data": {
      "text/plain": [
       "[Value(data = -0.40080251483099194),\n",
       " Value(data = -0.09683618666283778),\n",
       " Value(data = -0.3676675899472259),\n",
       " Value(data = 0.983842690060001),\n",
       " Value(data = 0.7349478580862947),\n",
       " Value(data = 0.23331871885482602),\n",
       " Value(data = -0.09551995806523839),\n",
       " Value(data = -0.3108421492529543),\n",
       " Value(data = -0.24576809473495542),\n",
       " Value(data = 0.9696198286357272),\n",
       " Value(data = -0.4485874513949668),\n",
       " Value(data = -0.3696553704193801),\n",
       " Value(data = -0.7343568556174214),\n",
       " Value(data = -0.18988877851268238),\n",
       " Value(data = 0.38435446508416105),\n",
       " Value(data = 0.46330207964495385),\n",
       " Value(data = 0.6328104894960194),\n",
       " Value(data = 0.38138560440647806),\n",
       " Value(data = 0.5201820142554241),\n",
       " Value(data = -0.44303509800051777),\n",
       " Value(data = -0.9506545709166354),\n",
       " Value(data = 0.8267391855137873),\n",
       " Value(data = 0.18840838358713308),\n",
       " Value(data = -0.7628540819150347),\n",
       " Value(data = 0.7994019511828689),\n",
       " Value(data = -0.7983554984641821),\n",
       " Value(data = -0.09263883954330732),\n",
       " Value(data = -0.5498739996174922)]"
      ]
     },
     "execution_count": 8,
     "metadata": {},
     "output_type": "execute_result"
    }
   ],
   "source": [
    "layer_1.params()"
   ]
  },
  {
   "attachments": {},
   "cell_type": "markdown",
   "metadata": {},
   "source": [
    "# 3. Multi-layers"
   ]
  },
  {
   "cell_type": "code",
   "execution_count": 9,
   "metadata": {},
   "outputs": [],
   "source": [
    "class MLP:\n",
    "    def __init__(self, input_dim, units):\n",
    "        unit_sizes = [input_dim] + units\n",
    "        self.layers = [Layer(input_dim=in_, n_nodes=unit) for in_, unit in zip(unit_sizes, units)]\n",
    "\n",
    "    def __call__(self, x):\n",
    "        for layer in self.layers:\n",
    "            x = layer(x)\n",
    "        return x\n",
    "\n",
    "    def params(self):\n",
    "        return [p for layer in self.layers for p in layer.params()]"
   ]
  },
  {
   "cell_type": "code",
   "execution_count": 10,
   "metadata": {},
   "outputs": [
    {
     "data": {
      "text/plain": [
       "Value(data = -0.448398856497718)"
      ]
     },
     "execution_count": 10,
     "metadata": {},
     "output_type": "execute_result"
    }
   ],
   "source": [
    "x = [2.0, 3.0, -1.0]\n",
    "n = MLP(3, [4, 4, 1])\n",
    "n(x)"
   ]
  },
  {
   "cell_type": "code",
   "execution_count": 12,
   "metadata": {},
   "outputs": [],
   "source": [
    "xs = [\n",
    "  [2.0, 3.0, -1.0],\n",
    "  [3.0, -1.0, 0.5],\n",
    "  [0.5, 1.0, 1.0],\n",
    "  [1.0, 1.0, -1.0],\n",
    "]\n",
    "ys = [1.0, -1.0, -1.0, 1.0] # desired targets"
   ]
  },
  {
   "cell_type": "code",
   "execution_count": 13,
   "metadata": {},
   "outputs": [
    {
     "name": "stdout",
     "output_type": "stream",
     "text": [
      "0 6.094125589299212\n",
      "1 3.927920913076822\n",
      "2 3.1901484256986365\n",
      "3 2.7414816813137346\n",
      "4 2.347357836110861\n",
      "5 1.8456258835675756\n",
      "6 1.3526423346781422\n",
      "7 1.5268057107878772\n",
      "8 2.571525360091806\n",
      "9 1.3731824134924884\n",
      "10 0.3461081427470089\n",
      "11 0.044589759279979616\n",
      "12 0.03581071667126862\n",
      "13 0.03045910379596074\n",
      "14 0.026791895935165084\n",
      "15 0.0240866545690347\n",
      "16 0.021986605261715746\n",
      "17 0.020294400671064028\n",
      "18 0.018891692358131547\n",
      "19 0.01770302576026553\n"
     ]
    }
   ],
   "source": [
    "for k in range(20):\n",
    "  \n",
    "  # forward pass\n",
    "  ypred = [n(x) for x in xs]\n",
    "  loss = sum((yout - ygt)**2 for ygt, yout in zip(ys, ypred))\n",
    "  \n",
    "  # backward pass\n",
    "  for p in n.params():\n",
    "    p.grad = 0.0\n",
    "  loss.backward()\n",
    "  \n",
    "  # update\n",
    "  for p in n.params():\n",
    "    p.data += -0.1 * p.grad\n",
    "  \n",
    "  print(k, loss.data)"
   ]
  },
  {
   "cell_type": "code",
   "execution_count": null,
   "metadata": {},
   "outputs": [],
   "source": []
  }
 ],
 "metadata": {
  "kernelspec": {
   "display_name": "Python 3",
   "language": "python",
   "name": "python3"
  },
  "language_info": {
   "codemirror_mode": {
    "name": "ipython",
    "version": 3
   },
   "file_extension": ".py",
   "mimetype": "text/x-python",
   "name": "python",
   "nbconvert_exporter": "python",
   "pygments_lexer": "ipython3",
   "version": "3.10.7"
  },
  "orig_nbformat": 4,
  "vscode": {
   "interpreter": {
    "hash": "93d343a67186057eba7cc3f4fb38dbcf94a41bc6d951d30420561a381ab22bcf"
   }
  }
 },
 "nbformat": 4,
 "nbformat_minor": 2
}
