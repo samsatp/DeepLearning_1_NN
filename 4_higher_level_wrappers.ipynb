{
 "cells": [
  {
   "cell_type": "code",
   "execution_count": 73,
   "metadata": {},
   "outputs": [],
   "source": [
    "import math\n",
    "import random\n",
    "import numpy as np"
   ]
  },
  {
   "cell_type": "code",
   "execution_count": 74,
   "metadata": {},
   "outputs": [],
   "source": [
    "from main import Value"
   ]
  },
  {
   "attachments": {},
   "cell_type": "markdown",
   "metadata": {},
   "source": [
    "# 1. Node\n",
    "represents one neuron node in a neural network which consists of weight vector and a bias.\n",
    "\n",
    "![](img/neuron.png)"
   ]
  },
  {
   "cell_type": "code",
   "execution_count": 75,
   "metadata": {},
   "outputs": [],
   "source": [
    "class Node:\n",
    "    def __init__(self, input_dim):\n",
    "        self.W = [Value(data=random.uniform(-1,1)) for _ in range(input_dim)]\n",
    "        self.b = Value(data=random.uniform(-1,1))\n",
    "\n",
    "    def __call__(self, xs):\n",
    "        assert len(xs) == len(self.W)  # Check for compatible dimension\n",
    "\n",
    "        out = sum([\n",
    "            w*x for w,x in zip(self.W, xs)\n",
    "        ]) + self.b\n",
    "        out = out.tanh()\n",
    "        return out\n",
    "\n",
    "    def params(self):\n",
    "        return self.W + [self.b]"
   ]
  },
  {
   "cell_type": "code",
   "execution_count": 76,
   "metadata": {},
   "outputs": [
    {
     "data": {
      "text/plain": [
       "Value(data = -0.7929581519712474)"
      ]
     },
     "execution_count": 76,
     "metadata": {},
     "output_type": "execute_result"
    }
   ],
   "source": [
    "node_1 = Node(input_dim=5)\n",
    "xs = [random.uniform(-1,1) for _ in range(5)]\n",
    "node_1(xs)"
   ]
  },
  {
   "cell_type": "code",
   "execution_count": 77,
   "metadata": {},
   "outputs": [
    {
     "data": {
      "text/plain": [
       "[Value(data = 0.4797687649110751),\n",
       " Value(data = -0.5464789707428497),\n",
       " Value(data = 0.3034714565676837),\n",
       " Value(data = 0.8797349590160608),\n",
       " Value(data = -0.06657322700591073),\n",
       " Value(data = 0.5148520441247557)]"
      ]
     },
     "execution_count": 77,
     "metadata": {},
     "output_type": "execute_result"
    }
   ],
   "source": [
    "node_1.params()"
   ]
  },
  {
   "attachments": {},
   "cell_type": "markdown",
   "metadata": {},
   "source": [
    "# 2. Layer\n",
    "represents one layer in a neural network which consits of a weight matrix and a bias vector.\n",
    "\n",
    "![](img/layer.png)"
   ]
  },
  {
   "cell_type": "code",
   "execution_count": 78,
   "metadata": {},
   "outputs": [],
   "source": [
    "class Layer:\n",
    "    def __init__(self, input_dim, n_nodes):\n",
    "        self.nodes = [Node(input_dim=input_dim) for _ in range(n_nodes)]\n",
    "\n",
    "    def __call__(self, x):\n",
    "        out = [node(x) for node in self.nodes]\n",
    "        return out[0] if len(out) == 1 else out\n",
    "\n",
    "    def params(self):\n",
    "        return [p for node in self.nodes for p in node.params()]\n",
    "    "
   ]
  },
  {
   "cell_type": "code",
   "execution_count": 79,
   "metadata": {},
   "outputs": [
    {
     "data": {
      "text/plain": [
       "[Value(data = -0.21364888364786383),\n",
       " Value(data = -0.8722015265365903),\n",
       " Value(data = -0.9125969487379284),\n",
       " Value(data = 0.4449679025745847)]"
      ]
     },
     "execution_count": 79,
     "metadata": {},
     "output_type": "execute_result"
    }
   ],
   "source": [
    "layer_1 = Layer(input_dim=6, n_nodes=4)\n",
    "x = np.random.uniform(-1,1,size=6)\n",
    "layer_1(x)"
   ]
  },
  {
   "cell_type": "code",
   "execution_count": 80,
   "metadata": {},
   "outputs": [
    {
     "data": {
      "text/plain": [
       "[Value(data = 0.9099448208902252),\n",
       " Value(data = 0.4116307759439448),\n",
       " Value(data = -0.8315790517873298),\n",
       " Value(data = -0.6952242861932596),\n",
       " Value(data = -0.576923485762955),\n",
       " Value(data = 0.4647308161263686),\n",
       " Value(data = -0.9556342798124808),\n",
       " Value(data = -0.18782794193710362),\n",
       " Value(data = -0.49140112152054916),\n",
       " Value(data = 0.04138225186500821),\n",
       " Value(data = -0.811156781736708),\n",
       " Value(data = 0.7476064543283361),\n",
       " Value(data = -0.32201570545049085),\n",
       " Value(data = -0.820576709830984),\n",
       " Value(data = -0.9011873019194836),\n",
       " Value(data = -0.7050143189456841),\n",
       " Value(data = 0.7220979152494948),\n",
       " Value(data = 0.2556283427228694),\n",
       " Value(data = 0.3773508038463884),\n",
       " Value(data = -0.18460340279133125),\n",
       " Value(data = -0.9082983456153757),\n",
       " Value(data = -0.9809735513230842),\n",
       " Value(data = 0.1580206878999042),\n",
       " Value(data = 0.07006338905566367),\n",
       " Value(data = -0.9954724512139523),\n",
       " Value(data = 0.8907253817323004),\n",
       " Value(data = 0.17946123711744622),\n",
       " Value(data = 0.6610528302078298)]"
      ]
     },
     "execution_count": 80,
     "metadata": {},
     "output_type": "execute_result"
    }
   ],
   "source": [
    "layer_1.params()"
   ]
  },
  {
   "attachments": {},
   "cell_type": "markdown",
   "metadata": {},
   "source": [
    "# 3. Multi-layers"
   ]
  },
  {
   "cell_type": "code",
   "execution_count": 81,
   "metadata": {},
   "outputs": [],
   "source": [
    "class MLP:\n",
    "    def __init__(self, input_dim, units):\n",
    "        unit_sizes = [input_dim] + units\n",
    "        self.layers = [Layer(input_dim=in_, n_nodes=unit) for in_, unit in zip(unit_sizes, units)]\n",
    "\n",
    "    def __call__(self, x):\n",
    "        for layer in self.layers:\n",
    "            x = layer(x)\n",
    "        return x\n",
    "\n",
    "    def params(self):\n",
    "        return [p for layer in self.layers for p in layer.params()]"
   ]
  },
  {
   "cell_type": "code",
   "execution_count": 82,
   "metadata": {},
   "outputs": [
    {
     "data": {
      "text/plain": [
       "Value(data = 0.1381972717431552)"
      ]
     },
     "execution_count": 82,
     "metadata": {},
     "output_type": "execute_result"
    }
   ],
   "source": [
    "x = [2.0, 3.0, -1.0]\n",
    "n = MLP(3, [4, 4, 1])\n",
    "n(x)"
   ]
  },
  {
   "cell_type": "code",
   "execution_count": 83,
   "metadata": {},
   "outputs": [],
   "source": [
    "xs = [\n",
    "  [2.0, 3.0, -1.0],\n",
    "  [3.0, -1.0, 0.5],\n",
    "  [0.5, 1.0, 1.0],\n",
    "  [1.0, 1.0, -1.0],\n",
    "]\n",
    "ys = [1.0, -1.0, -1.0, 1.0] # desired targets"
   ]
  },
  {
   "cell_type": "code",
   "execution_count": 84,
   "metadata": {},
   "outputs": [
    {
     "name": "stdout",
     "output_type": "stream",
     "text": [
      "0 5.248157834735572\n",
      "1 3.8839551322793606\n",
      "2 3.090235165236204\n",
      "3 2.6375873722569128\n",
      "4 2.079323748405805\n",
      "5 1.8953478292755463\n",
      "6 0.6546685451431948\n",
      "7 0.2325447120257362\n",
      "8 0.148515617050547\n",
      "9 0.1198233698387712\n",
      "10 0.10028263061290893\n",
      "11 0.08582820709925651\n",
      "12 0.07470915064169936\n",
      "13 0.06591455935556229\n",
      "14 0.05880379207323705\n",
      "15 0.05294949545702441\n",
      "16 0.04805579364854173\n",
      "17 0.04391162266703759\n",
      "18 0.04036259864177798\n",
      "19 0.03729334605342848\n"
     ]
    }
   ],
   "source": [
    "for k in range(20):\n",
    "  \n",
    "  # forward pass\n",
    "  ypred = [n(x) for x in xs]\n",
    "  loss = sum((yout - ygt)**2 for ygt, yout in zip(ys, ypred))\n",
    "  \n",
    "  # backward pass\n",
    "  for p in n.params():\n",
    "    p.grad = 0.0\n",
    "  loss.backward()\n",
    "  \n",
    "  # update\n",
    "  for p in n.params():\n",
    "    p.data += -0.1 * p.grad\n",
    "  \n",
    "  print(k, loss.data)"
   ]
  },
  {
   "cell_type": "code",
   "execution_count": null,
   "metadata": {},
   "outputs": [],
   "source": []
  }
 ],
 "metadata": {
  "kernelspec": {
   "display_name": "Python 3",
   "language": "python",
   "name": "python3"
  },
  "language_info": {
   "codemirror_mode": {
    "name": "ipython",
    "version": 3
   },
   "file_extension": ".py",
   "mimetype": "text/x-python",
   "name": "python",
   "nbconvert_exporter": "python",
   "pygments_lexer": "ipython3",
   "version": "3.10.7"
  },
  "orig_nbformat": 4,
  "vscode": {
   "interpreter": {
    "hash": "93d343a67186057eba7cc3f4fb38dbcf94a41bc6d951d30420561a381ab22bcf"
   }
  }
 },
 "nbformat": 4,
 "nbformat_minor": 2
}
