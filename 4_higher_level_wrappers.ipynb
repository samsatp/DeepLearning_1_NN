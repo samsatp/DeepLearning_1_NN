{
 "cells": [
  {
   "cell_type": "code",
   "execution_count": 1,
   "metadata": {},
   "outputs": [],
   "source": [
    "import math\n",
    "import random\n",
    "import numpy as np"
   ]
  },
  {
   "cell_type": "code",
   "execution_count": 2,
   "metadata": {},
   "outputs": [],
   "source": [
    "from main import Value"
   ]
  },
  {
   "attachments": {},
   "cell_type": "markdown",
   "metadata": {},
   "source": [
    "# 1. Node\n",
    "represents one neuron node in a neural network which consists of weight vector and a bias.\n",
    "\n",
    "![](img/neuron.png)"
   ]
  },
  {
   "cell_type": "code",
   "execution_count": 3,
   "metadata": {},
   "outputs": [],
   "source": [
    "class Node:\n",
    "    def __init__(self, input_dim):\n",
    "        self.W = [Value(data=random.uniform(-1,1)) for _ in range(input_dim)]\n",
    "        self.b = Value(data=random.uniform(-1,1))\n",
    "\n",
    "    def __call__(self, xs):\n",
    "        assert len(xs) == len(self.W)  # Check for compatible dimension\n",
    "\n",
    "        Wx = sum([\n",
    "            w*x for w,x in zip(self.W, xs)\n",
    "        ])\n",
    "        return Wx + self.b"
   ]
  },
  {
   "cell_type": "code",
   "execution_count": 4,
   "metadata": {},
   "outputs": [
    {
     "data": {
      "text/plain": [
       "Value(data = 0.8704519962632795)"
      ]
     },
     "execution_count": 4,
     "metadata": {},
     "output_type": "execute_result"
    }
   ],
   "source": [
    "node_1 = Node(input_dim=5)\n",
    "xs = [random.uniform(-1,1) for _ in range(5)]\n",
    "node_1(xs)"
   ]
  },
  {
   "attachments": {},
   "cell_type": "markdown",
   "metadata": {},
   "source": [
    "# 2. Layer\n",
    "represents one layer in a neural network which consits of a weight matrix and a bias vector.\n",
    "\n",
    "![](img/layer.png)"
   ]
  },
  {
   "cell_type": "code",
   "execution_count": 6,
   "metadata": {},
   "outputs": [],
   "source": [
    "class Layer:\n",
    "    def __init__(self, input_dim, n_nodes):\n",
    "        self.input_dim = input_dim\n",
    "        self.n_nodes = n_nodes\n",
    "\n",
    "        nodes = [Node(input_dim=input_dim) for _ in range(n_nodes)]\n",
    "        self.W = [node.W for node in nodes]\n",
    "        self.b = [node.b for node in nodes]\n",
    "\n",
    "    def __call__(self, x):\n",
    "        assert len(x) == self.input_dim\n",
    "\n",
    "        Wxs = [np.dot(W, x) for W in self.W]\n",
    "        return [Wx + b for Wx, b in zip(Wxs, self.b)]"
   ]
  },
  {
   "cell_type": "code",
   "execution_count": 7,
   "metadata": {},
   "outputs": [
    {
     "data": {
      "text/plain": [
       "[Value(data = -1.2407212056146013),\n",
       " Value(data = 2.1923878267780044),\n",
       " Value(data = 0.61180455868126),\n",
       " Value(data = -0.6673624139961751)]"
      ]
     },
     "execution_count": 7,
     "metadata": {},
     "output_type": "execute_result"
    }
   ],
   "source": [
    "layer_1 = Layer(input_dim=6, n_nodes=4)\n",
    "x = np.random.uniform(-1,1,size=6)\n",
    "layer_1(x)"
   ]
  },
  {
   "cell_type": "code",
   "execution_count": null,
   "metadata": {},
   "outputs": [],
   "source": []
  }
 ],
 "metadata": {
  "kernelspec": {
   "display_name": "Python 3",
   "language": "python",
   "name": "python3"
  },
  "language_info": {
   "codemirror_mode": {
    "name": "ipython",
    "version": 3
   },
   "file_extension": ".py",
   "mimetype": "text/x-python",
   "name": "python",
   "nbconvert_exporter": "python",
   "pygments_lexer": "ipython3",
   "version": "3.10.7"
  },
  "orig_nbformat": 4,
  "vscode": {
   "interpreter": {
    "hash": "93d343a67186057eba7cc3f4fb38dbcf94a41bc6d951d30420561a381ab22bcf"
   }
  }
 },
 "nbformat": 4,
 "nbformat_minor": 2
}
